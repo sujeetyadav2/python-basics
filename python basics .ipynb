{
 "cells": [
  {
   "cell_type": "markdown",
   "id": "bf1f8806-6423-48e1-a522-73f6e66b4142",
   "metadata": {},
   "source": [
    "----\n",
    "                                                              # Phyton Basics #\n",
    "----\n",
    "## Theoretical Qustion and Answer \n",
    "\n",
    " Qus - 1 : What is phyton, and why is it popular?\n",
    "         - Python is a programming language that it easy to understad and write,making it a popular choice among devlopers and programmers.\n",
    "         - Its popular due to its large community, extensive libararies, cross platform compatabilty, and data science, automation and more.\n",
    "\n",
    " Qus - 2 : What is an interpreter in python?\n",
    "         - An interpreter in program language that read and execute pythn code line by line.\n",
    "         - It convert to high level python code into machine code runtime,making dubing easier and development faster.\n",
    "\n",
    " Qus - 3 : What are pre-define keyword in python?\n",
    "         - Pre-define word are reserved word in python that have special meaning and cannot be used identifire and variable (Ex- 'if', 'else',                    'apend','while',etc.) \n",
    "\n",
    "  Qus - 4 : Can keywords be used as variable names?\n",
    "          - no, keywords can not be used variable name because python keyword for reserved specific language function and syntex.\n",
    "\n",
    "  Qus - 5 : What is mutability in python?\n",
    "          - Mutability refer to whether an object's state or contents can be changed after it is created.\n",
    "           *ex. = \n",
    "         "
   ]
  },
  {
   "cell_type": "code",
   "execution_count": 6,
   "id": "b2f87bba-fee7-4578-8c2c-81e6a1b47746",
   "metadata": {},
   "outputs": [
    {
     "data": {
      "text/plain": [
       "['ajay', 1, 2, 3, 'vijay', 'kratika']"
      ]
     },
     "execution_count": 6,
     "metadata": {},
     "output_type": "execute_result"
    }
   ],
   "source": [
    " \n",
    "list_cont = [\"ajay\",1,2,3,\"vijay\",\"kratika\"]\n",
    "list_cont"
   ]
  },
  {
   "cell_type": "code",
   "execution_count": 14,
   "id": "f9c633a2-d1d8-4ab2-be23-86396ac54bea",
   "metadata": {},
   "outputs": [
    {
     "name": "stdout",
     "output_type": "stream",
     "text": [
      "['ajay', 1, 2, 3, 'sujeet', 'sujeet']\n"
     ]
    }
   ],
   "source": [
    "list_cont[4]= \"sujeet\"\n",
    "print(list_cont)"
   ]
  },
  {
   "cell_type": "markdown",
   "id": "6b101e7c-d0a4-4926-9a5f-04effa0e6be1",
   "metadata": {},
   "source": [
    " Qus = 6 : why are list mutable but tuple are immutable?\n",
    "         - because list designed to be dynamic and changeable,which is why they are mutable. tuple are immutable to ensure data intigrity and allow               tham to be used dictionary keys.\n",
    "\n",
    " Qus = 7 : What is difference between '==' or 'is' operation in python?\n",
    "         - '==' checks for value equality and 'is' checks for identity.\n",
    "\n",
    " Qus = 8 : What are logical operation in python?\n",
    "         - Logical operation used to combine conditional statement : 'and' (both conditions true), 'or'(at least one condition true),and 'not'(negates            the contion).\n",
    "\n",
    " Qus = 9 : What is type casting in python?\n",
    "         - Type casting is process of changing (convert) the data type of a value and object.\n",
    "          ** Ex- convert flot to int....\n",
    "         "
   ]
  },
  {
   "cell_type": "code",
   "execution_count": 23,
   "id": "9e17ac2a-ce67-4d7c-b353-3c64b3c4bd42",
   "metadata": {},
   "outputs": [
    {
     "data": {
      "text/plain": [
       "2.5"
      ]
     },
     "execution_count": 23,
     "metadata": {},
     "output_type": "execute_result"
    }
   ],
   "source": [
    "a = 2.5\n",
    "a"
   ]
  },
  {
   "cell_type": "code",
   "execution_count": 24,
   "id": "09ab9fe5-d9b6-44d2-b79c-dfeb528cb9b1",
   "metadata": {},
   "outputs": [
    {
     "data": {
      "text/plain": [
       "float"
      ]
     },
     "execution_count": 24,
     "metadata": {},
     "output_type": "execute_result"
    }
   ],
   "source": [
    "type(a)"
   ]
  },
  {
   "cell_type": "code",
   "execution_count": 25,
   "id": "dfff2cf3-5bb1-408c-bc03-94ea44385ef5",
   "metadata": {},
   "outputs": [
    {
     "data": {
      "text/plain": [
       "2"
      ]
     },
     "execution_count": 25,
     "metadata": {},
     "output_type": "execute_result"
    }
   ],
   "source": [
    " int(a)"
   ]
  },
  {
   "cell_type": "markdown",
   "id": "b1f1a7c1-2096-4750-8f09-ee8fb6a3b0c1",
   "metadata": {},
   "source": [
    " Qus - 10 : What is difference between implicit and explicit type casting?\n",
    "           - Implicit type casting is done automatically by python when nedded, while explicit type casting is performed manually usin casting                      function like 'str()', 'int()',etc.\n",
    "\n",
    " Qus - 11 : What is the purpuse of conditional statement in python?\n",
    "          - Conditional statement control the flow of the program based on certain condition, they help execute diffrent code block.\n",
    "          Ex - loop conditional statement....\n",
    " "
   ]
  },
  {
   "cell_type": "code",
   "execution_count": 28,
   "id": "c8db1564-5ffb-48dd-958d-b14967272faf",
   "metadata": {},
   "outputs": [
    {
     "name": "stdout",
     "output_type": "stream",
     "text": [
      "5\n",
      "6\n",
      "7\n",
      "8\n",
      "9\n"
     ]
    }
   ],
   "source": [
    "# while loop condition statement-\n",
    "a = 10\n",
    "b = 5\n",
    "while a>b:\n",
    "    print(b)\n",
    "    b = b+1"
   ]
  },
  {
   "cell_type": "code",
   "execution_count": 29,
   "id": "f1ba15f5-b7b7-40f1-9c29-7f246c555a2a",
   "metadata": {},
   "outputs": [
    {
     "name": "stdout",
     "output_type": "stream",
     "text": [
      "5\n",
      "6\n"
     ]
    }
   ],
   "source": [
    "# break condition statement-\n",
    "a = 10\n",
    "b = 5\n",
    "while a>b:\n",
    "    print(b)\n",
    "    b = b+1\n",
    "    if b == 7:\n",
    "        break"
   ]
  },
  {
   "cell_type": "markdown",
   "id": "6418fc16-715d-4558-9df0-0962a77793df",
   "metadata": {},
   "source": [
    " Qus - 12 : How dose the elif statemant work?\n",
    "          - 'elif' the sort-form of 'else','if' it used to check multiple condition after 'if' conditon.\n",
    "          Ex - "
   ]
  },
  {
   "cell_type": "code",
   "execution_count": 30,
   "id": "6a147f1a-3ea2-419d-aa9e-ebcb45abe741",
   "metadata": {},
   "outputs": [
    {
     "name": "stdout",
     "output_type": "stream",
     "text": [
      "this is true\n"
     ]
    }
   ],
   "source": [
    "# elif example \n",
    "a = 20\n",
    "b = 5\n",
    "if a<=b:\n",
    "    print(\"this is false\")\n",
    "elif a>b:\n",
    "    print(\"this is true\")"
   ]
  },
  {
   "cell_type": "markdown",
   "id": "3b17f902-f9a5-4c71-95d4-c492593655cf",
   "metadata": {},
   "source": [
    " Qus - 13 : what is diffrence between for and while loops?\n",
    "          - for loops are used when the number iteration is known or infinite. while loops used when the condition to checked continuosly.\n",
    "          Ex - "
   ]
  },
  {
   "cell_type": "code",
   "execution_count": 33,
   "id": "b3299b7a-526b-4a0a-b51d-13436a46f84c",
   "metadata": {},
   "outputs": [
    {
     "name": "stdout",
     "output_type": "stream",
     "text": [
      "10\n",
      "9\n",
      "8\n",
      "7\n",
      "6\n",
      "5\n",
      "4\n",
      "3\n"
     ]
    }
   ],
   "source": [
    "#whle loop\n",
    "a = 2\n",
    "b = 10\n",
    "while a<b:\n",
    "    print(b)\n",
    "    b = b-1"
   ]
  },
  {
   "cell_type": "code",
   "execution_count": 36,
   "id": "58638d02-e0cc-47b0-b405-379284fdd9f5",
   "metadata": {},
   "outputs": [
    {
     "name": "stdout",
     "output_type": "stream",
     "text": [
      "cube of 1 is 1\n",
      "cube of 2 is 4\n",
      "cube of 3 is 27\n",
      "cube of 4 is 256\n",
      "cube of 5 is 3125\n",
      "cube of 6 is 46656\n"
     ]
    }
   ],
   "source": [
    "#for loop\n",
    "for i in range (1, 7):\n",
    "     print( f\"cube of {i} is {i**i}\")"
   ]
  },
  {
   "cell_type": "code",
   "execution_count": 37,
   "id": "bdf366be-37f5-4f02-806a-60e66b2080a1",
   "metadata": {},
   "outputs": [
    {
     "name": "stdout",
     "output_type": "stream",
     "text": [
      "cube of 1 is 1\n",
      "cube of 2 is 4\n",
      "cube of 3 is 9\n",
      "cube of 4 is 16\n",
      "cube of 5 is 25\n",
      "cube of 6 is 36\n"
     ]
    }
   ],
   "source": [
    "for i in range (1, 7):\n",
    "     print( f\"cube of {i} is {i*i}\")"
   ]
  },
  {
   "cell_type": "code",
   "execution_count": 39,
   "id": "33917c4d-e59c-452a-b219-ae9cb98db7a9",
   "metadata": {},
   "outputs": [
    {
     "name": "stdout",
     "output_type": "stream",
     "text": [
      "sujeet\n",
      "sandeep\n",
      "karan\n",
      "1\n",
      "2\n",
      "3\n",
      "4\n",
      "5\n"
     ]
    }
   ],
   "source": [
    "names = (\"sujeet\",\"sandeep\",\"karan\",1,2,3,4,5,)\n",
    "for name in names:\n",
    "    print(name)"
   ]
  },
  {
   "cell_type": "markdown",
   "id": "9c03cfbb-bf5a-40e3-b33c-d4344ff674e5",
   "metadata": {},
   "source": [
    " Qus - 14 : Describe a scenario where a while loop is more a than sutable for loop?\n",
    "          - because while loop checked condition ,condition is false than code is 'exit'. And foor loop checked data type of sequence.\n",
    "          "
   ]
  },
  {
   "cell_type": "markdown",
   "id": "ef35aac3-b252-432e-9fb5-5d1b55ec4508",
   "metadata": {},
   "source": [
    "--------\n",
    "  ## practical Qustion And Answer\n",
    "--------"
   ]
  },
  {
   "cell_type": "code",
   "execution_count": 95,
   "id": "8a878cb6-6b43-40f2-95f7-3089d08e2c72",
   "metadata": {},
   "outputs": [
    {
     "data": {
      "text/plain": [
       "'hello world'"
      ]
     },
     "execution_count": 95,
     "metadata": {},
     "output_type": "execute_result"
    }
   ],
   "source": [
    " # Qus - 1 : Write a python programe to print \"hello,world\"?\n",
    "a = \"hello world\"\n",
    "a"
   ]
  },
  {
   "cell_type": "code",
   "execution_count": 2,
   "id": "17e1b233-ffe5-4093-b48b-0d7af39bafd2",
   "metadata": {},
   "outputs": [
    {
     "name": "stdout",
     "output_type": "stream",
     "text": [
      "hello world\n"
     ]
    }
   ],
   "source": [
    "print(\"hello world\")"
   ]
  },
  {
   "cell_type": "code",
   "execution_count": 94,
   "id": "223718a1-64e5-4d84-9254-5a068cceaaf9",
   "metadata": {},
   "outputs": [
    {
     "name": "stdout",
     "output_type": "stream",
     "text": [
      "sujeet 20\n"
     ]
    }
   ],
   "source": [
    "# Qus - 2 : Write a python program that display your name and age ?\n",
    "name = \"sujeet\"\n",
    "age = 20\n",
    "print(\"sujeet\",\"20\")"
   ]
  },
  {
   "cell_type": "code",
   "execution_count": 7,
   "id": "61e349df-4657-488e-a625-f5837cc69bf9",
   "metadata": {},
   "outputs": [
    {
     "name": "stdout",
     "output_type": "stream",
     "text": [
      "['False', 'None', 'True', 'and', 'as', 'assert', 'async', 'await', 'break', 'class', 'continue', 'def', 'del', 'elif', 'else', 'except', 'finally', 'for', 'from', 'global', 'if', 'import', 'in', 'is', 'lambda', 'nonlocal', 'not', 'or', 'pass', 'raise', 'return', 'try', 'while', 'with', 'yield']\n"
     ]
    }
   ],
   "source": [
    "# Qus - 3 : Write code to print all predefined keyword in python using the keyword library?\n",
    "import keyword\n",
    "print(keyword.kwlist)"
   ]
  },
  {
   "cell_type": "code",
   "execution_count": 9,
   "id": "041c3bdb-d551-442c-bece-dcec04a4f9dc",
   "metadata": {},
   "outputs": [
    {
     "name": "stdin",
     "output_type": "stream",
     "text": [
      "Enter a word hello\n"
     ]
    },
    {
     "name": "stdout",
     "output_type": "stream",
     "text": [
      "is keyword: False\n"
     ]
    }
   ],
   "source": [
    "# Qus - 4 : Write a program that checked if is givin word is python keyword?\n",
    "import keyword \n",
    "word = input (\"Enter a word\")\n",
    "print(\"is keyword:\",keyword.iskeyword(word))"
   ]
  },
  {
   "cell_type": "code",
   "execution_count": 10,
   "id": "f3caa537-87ff-46d9-9884-ef78e91147f2",
   "metadata": {},
   "outputs": [
    {
     "name": "stdin",
     "output_type": "stream",
     "text": [
      "Enter a word elif\n"
     ]
    },
    {
     "name": "stdout",
     "output_type": "stream",
     "text": [
      "is keyword: True\n"
     ]
    }
   ],
   "source": [
    "import keyword \n",
    "word = input (\"Enter a word\")\n",
    "print(\"is keyword:\",keyword.iskeyword(word))"
   ]
  },
  {
   "cell_type": "code",
   "execution_count": 24,
   "id": "111c8cfd-71bc-4f5f-a784-181d50f511d5",
   "metadata": {},
   "outputs": [
    {
     "name": "stdout",
     "output_type": "stream",
     "text": [
      "[10, 2, 3]\n"
     ]
    }
   ],
   "source": [
    "# Qus - 5 : Creat a list and tuple in phyton,and demonstrate how attempting to change an element works differently for each?m\n",
    "my_list = [1,2,3,]\n",
    "my_tuple = (1,2,3,)\n",
    "\n",
    "# list is mutable \n",
    "my_list[0] = 10\n",
    "print(my_list)"
   ]
  },
  {
   "cell_type": "code",
   "execution_count": 93,
   "id": "d9888b40-f591-4baf-88c9-717253c27df9",
   "metadata": {},
   "outputs": [
    {
     "ename": "TypeError",
     "evalue": "'tuple' object does not support item assignment",
     "output_type": "error",
     "traceback": [
      "\u001b[31m---------------------------------------------------------------------------\u001b[39m",
      "\u001b[31mTypeError\u001b[39m                                 Traceback (most recent call last)",
      "\u001b[36mCell\u001b[39m\u001b[36m \u001b[39m\u001b[32mIn[93]\u001b[39m\u001b[32m, line 2\u001b[39m\n\u001b[32m      1\u001b[39m \u001b[38;5;66;03m# tuple is immutable>> 'tuple' objct does not support item assignment.\u001b[39;00m\n\u001b[32m----> \u001b[39m\u001b[32m2\u001b[39m \u001b[43mmy_tuple\u001b[49m\u001b[43m[\u001b[49m\u001b[32;43m0\u001b[39;49m\u001b[43m]\u001b[49m = \u001b[32m10\u001b[39m\n\u001b[32m      3\u001b[39m \u001b[38;5;28mprint\u001b[39m(my_tuple)\n",
      "\u001b[31mTypeError\u001b[39m: 'tuple' object does not support item assignment"
     ]
    }
   ],
   "source": [
    "# tuple is immutable>> 'tuple' objct does not support item assignment.\n",
    "my_tuple[0] = 10\n",
    "print(my_tuple)"
   ]
  },
  {
   "cell_type": "code",
   "execution_count": 41,
   "id": "ce2f1011-532f-408e-9352-1788248a4777",
   "metadata": {},
   "outputs": [
    {
     "name": "stdout",
     "output_type": "stream",
     "text": [
      "[10, 2, 3, 4]\n"
     ]
    }
   ],
   "source": [
    "# Qus - 6 : Write a function to demonstrate the behavior of mutable and immutable argument?\n",
    "list_cont =[1,2,3,4] #'number' (int) is mutable \n",
    "list_cont\n",
    "list_cont[0] = 10\n",
    "print(list_cont)\n"
   ]
  },
  {
   "cell_type": "code",
   "execution_count": 43,
   "id": "040163c1-ccf7-41fa-9997-7723a4f27b2f",
   "metadata": {},
   "outputs": [
    {
     "ename": "TypeError",
     "evalue": "'str' object does not support item assignment",
     "output_type": "error",
     "traceback": [
      "\u001b[31m---------------------------------------------------------------------------\u001b[39m",
      "\u001b[31mTypeError\u001b[39m                                 Traceback (most recent call last)",
      "\u001b[36mCell\u001b[39m\u001b[36m \u001b[39m\u001b[32mIn[43]\u001b[39m\u001b[32m, line 3\u001b[39m\n\u001b[32m      1\u001b[39m  \u001b[38;5;66;03m# 'words'(str) is immutable \u001b[39;00m\n\u001b[32m      2\u001b[39m b = \u001b[33m\"\u001b[39m\u001b[33mpwskills\u001b[39m\u001b[33m\"\u001b[39m\n\u001b[32m----> \u001b[39m\u001b[32m3\u001b[39m \u001b[43mb\u001b[49m\u001b[43m \u001b[49m\u001b[43m[\u001b[49m\u001b[32;43m0\u001b[39;49m\u001b[43m]\u001b[49m = \u001b[33m\"\u001b[39m\u001b[33mi\u001b[39m\u001b[33m\"\u001b[39m\n",
      "\u001b[31mTypeError\u001b[39m: 'str' object does not support item assignment"
     ]
    }
   ],
   "source": [
    " # 'words'(str) is immutable \n",
    "b = \"pwskills\"\n",
    "b [0] = \"i\""
   ]
  },
  {
   "cell_type": "code",
   "execution_count": 56,
   "id": "0010c92d-e3e6-43c1-9c99-c5495da20ccd",
   "metadata": {},
   "outputs": [
    {
     "name": "stdout",
     "output_type": "stream",
     "text": [
      "Addition: 26\n",
      "subtraction: 14\n",
      "modulus: 2\n",
      "120\n",
      "3\n"
     ]
    }
   ],
   "source": [
    "# Qus - 7 : Write a programe that platforms basics arthmetic operation on two users -input number?\n",
    "a = 20\n",
    "b = 6\n",
    "print(\"Addition:\", a+b)\n",
    "print(\"subtraction:\",a-b)\n",
    "print(\"modulus:\",a%b)\n",
    "print(a*b)\n",
    "print(a//b)\n",
    "\n"
   ]
  },
  {
   "cell_type": "code",
   "execution_count": 58,
   "id": "6b6b4bc8-d2cd-4f0c-8268-0f506a42c019",
   "metadata": {},
   "outputs": [
    {
     "name": "stdout",
     "output_type": "stream",
     "text": [
      "True\n",
      "True\n",
      "True\n",
      "False\n"
     ]
    }
   ],
   "source": [
    "# Qus - 8 : write a program to demonstrate the use of logical operations? \n",
    "a = 10 \n",
    "b = 5 \n",
    "print(a>b and b<10)\n",
    "print(a>5 and 10>b)\n",
    "print(not(a<5))\n",
    "print(b>a)"
   ]
  },
  {
   "cell_type": "code",
   "execution_count": 92,
   "id": "e92ea122-0a72-4aaa-9b8b-fc06d5a0d317",
   "metadata": {},
   "outputs": [
    {
     "name": "stdout",
     "output_type": "stream",
     "text": [
      "25\n",
      "25\n",
      "25.0\n",
      "True\n"
     ]
    }
   ],
   "source": [
    "# Qus - 9 : Write a python program to convert user input from string to integr,float, and boolean types?\n",
    "a = 25\n",
    "print(int(a))\n",
    "print(str(a)) # integer convert to string but string  not convert to integer \n",
    "print(float(a))\n",
    "print(bool(a))"
   ]
  },
  {
   "cell_type": "code",
   "execution_count": 84,
   "id": "b7b2761b-0e13-42dc-9934-b161871e90f1",
   "metadata": {},
   "outputs": [
    {
     "name": "stdout",
     "output_type": "stream",
     "text": [
      "[1, 2, 3, 4, 5]\n",
      "[1.0, 2.0, 3.0, 4.0, 5.0]\n",
      "[True, True, True, True, True]\n"
     ]
    }
   ],
   "source": [
    "# Qus - 10 : Write a code to demonstrate type casting with list element?\n",
    "str_list = ['1','2','3','4','5',]\n",
    "int_list = [int(i) for i in str_list]\n",
    "float_list = [float(i) for i in str_list]\n",
    "bool_list = [bool(i) for i in str_list]\n",
    "print(int_list)\n",
    "print(float_list)\n",
    "print(bool_list)"
   ]
  },
  {
   "cell_type": "code",
   "execution_count": 89,
   "id": "06aa4a83-39e2-4dac-abad-44b95a1222de",
   "metadata": {},
   "outputs": [
    {
     "name": "stdin",
     "output_type": "stream",
     "text": [
      "Enter a number: 10\n"
     ]
    },
    {
     "name": "stdout",
     "output_type": "stream",
     "text": [
      "positive\n"
     ]
    }
   ],
   "source": [
    "# Qus - 11 : Write a programe to checks if a number is postive, negative or zero?\n",
    "a = int(input(\"Enter a number:\"))\n",
    "if a>0:\n",
    "    print(\"positive\")\n",
    "elif a<0:\n",
    "    print(\"negative\")\n",
    "else:\n",
    "    print(\"zero\")"
   ]
  },
  {
   "cell_type": "code",
   "execution_count": 90,
   "id": "f57e9181-f100-4671-8519-28a2b50e3a47",
   "metadata": {},
   "outputs": [
    {
     "name": "stdin",
     "output_type": "stream",
     "text": [
      "Enter a number: -25\n"
     ]
    },
    {
     "name": "stdout",
     "output_type": "stream",
     "text": [
      "negative\n"
     ]
    }
   ],
   "source": [
    "a = int(input(\"Enter a number:\"))\n",
    "if a>0:\n",
    "    print(\"positive\")\n",
    "elif a<0:\n",
    "    print(\"negative\")\n",
    "else:\n",
    "    print(\"zero\")"
   ]
  },
  {
   "cell_type": "code",
   "execution_count": 91,
   "id": "bc4d3c17-c872-4701-a3f7-c54764cbe7a9",
   "metadata": {},
   "outputs": [
    {
     "name": "stdin",
     "output_type": "stream",
     "text": [
      "Enter a number: 0\n"
     ]
    },
    {
     "name": "stdout",
     "output_type": "stream",
     "text": [
      "zero\n"
     ]
    }
   ],
   "source": [
    "a = int(input(\"Enter a number:\"))\n",
    "if a>0:\n",
    "    print(\"positive\")\n",
    "elif a<0:\n",
    "    print(\"negative\")\n",
    "else:\n",
    "    print(\"zero\")"
   ]
  },
  {
   "cell_type": "code",
   "execution_count": 97,
   "id": "8511fb8b-3e1b-4100-bcfa-b8c7b763d6a7",
   "metadata": {},
   "outputs": [
    {
     "name": "stdout",
     "output_type": "stream",
     "text": [
      "1\n",
      "2\n",
      "3\n",
      "4\n",
      "5\n",
      "6\n",
      "7\n",
      "8\n",
      "9\n",
      "10\n"
     ]
    }
   ],
   "source": [
    "# Qus - 12 : Write a foor loop to print number from 1 to 10?\n",
    "for i in range (1,11):\n",
    "    print(i)"
   ]
  },
  {
   "cell_type": "code",
   "execution_count": 106,
   "id": "8022d75d-6f83-4af6-8009-731911f75f8f",
   "metadata": {},
   "outputs": [
    {
     "name": "stdout",
     "output_type": "stream",
     "text": [
      "[1, 2, 3, 4, 5, 6, 7, 8, 9, 10]\n"
     ]
    }
   ],
   "source": [
    "listi = list(range(1,11))\n",
    "print(listi)"
   ]
  },
  {
   "cell_type": "code",
   "execution_count": 120,
   "id": "04679dbf-5205-43c7-87a9-e5112a48487d",
   "metadata": {},
   "outputs": [
    {
     "name": "stdout",
     "output_type": "stream",
     "text": [
      "650\n"
     ]
    }
   ],
   "source": [
    "# Qus - 13 : Write a python program to find the sum of all even number between 1 to 50?\n",
    "total = 0\n",
    "for i in range(2,51,2):\n",
    "    total += i\n",
    "print(total)"
   ]
  },
  {
   "cell_type": "code",
   "execution_count": 121,
   "id": "bbdbbf74-c1dc-4dd2-b3d2-cd4e2db81de6",
   "metadata": {},
   "outputs": [
    {
     "name": "stdin",
     "output_type": "stream",
     "text": [
      "enter a string sujeet\n"
     ]
    },
    {
     "name": "stdout",
     "output_type": "stream",
     "text": [
      "t\n",
      "te\n",
      "tee\n",
      "teej\n",
      "teeju\n",
      "teejus\n"
     ]
    }
   ],
   "source": [
    "# Qus - 14 : write a program to reverse a string using a while loop?\n",
    "a = input(\"enter a string\")\n",
    "reversed_a = \"\"\n",
    "i = len(a) - 1\n",
    "while i>=0:\n",
    "    reversed_a += a[i]\n",
    "    i -= 1\n",
    "    print(reversed_a)"
   ]
  },
  {
   "cell_type": "code",
   "execution_count": 127,
   "id": "8532f039-3eef-4e37-bcbe-ebe7a26d53be",
   "metadata": {},
   "outputs": [
    {
     "name": "stdin",
     "output_type": "stream",
     "text": [
      "enter a number: 5\n"
     ]
    },
    {
     "name": "stdout",
     "output_type": "stream",
     "text": [
      "5\n",
      "20\n",
      "60\n",
      "120\n",
      "120\n"
     ]
    }
   ],
   "source": [
    "# Qus - 15 : Write a python program to calculate the factorial of a number provided by the user using a while loop?\n",
    "n = int(input(\"enter a number:\"))\n",
    "factorial =1\n",
    "while n>0:\n",
    "    factorial *= n\n",
    "    n -= 1\n",
    "    print(factorial)"
   ]
  },
  {
   "cell_type": "code",
   "execution_count": null,
   "id": "39b73418-66bf-47a0-a1f1-7567f45a5484",
   "metadata": {},
   "outputs": [],
   "source": []
  },
  {
   "cell_type": "code",
   "execution_count": null,
   "id": "c50941d3-4345-4cdc-950d-40256118cac6",
   "metadata": {},
   "outputs": [],
   "source": []
  }
 ],
 "metadata": {
  "kernelspec": {
   "display_name": "Python 3 (ipykernel)",
   "language": "python",
   "name": "python3"
  },
  "language_info": {
   "codemirror_mode": {
    "name": "ipython",
    "version": 3
   },
   "file_extension": ".py",
   "mimetype": "text/x-python",
   "name": "python",
   "nbconvert_exporter": "python",
   "pygments_lexer": "ipython3",
   "version": "3.13.5"
  }
 },
 "nbformat": 4,
 "nbformat_minor": 5
}
